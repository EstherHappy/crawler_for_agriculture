{
 "cells": [
  {
   "cell_type": "code",
   "execution_count": null,
   "metadata": {},
   "outputs": [],
   "source": [
    "import requests\n",
    "from bs4 import BeautifulSoup\n",
    "\n",
    "url = 'https://www.trade.gov/country-commercial-guides/chile-agricultural-sector'\n",
    "\n",
    "response = requests.get(url)\n",
    "soup = BeautifulSoup(response.text, 'html.parser')\n",
    "\n",
    "# Get the title of the page\n",
    "title = soup.title.text\n",
    "print('Title:', title)\n",
    "\n",
    "# Get all the paragraph text\n",
    "paragraphs = soup.find_all('p')\n",
    "for p in paragraphs:\n",
    "    print(p.text)\n",
    "\n",
    "# Get all the links in the page\n",
    "links = soup.find_all('a')\n",
    "for link in links:\n",
    "    href = link.get('href')\n",
    "    if href:\n",
    "        print('Link:', href)\n"
   ]
  },
  {
   "cell_type": "code",
   "execution_count": 1,
   "metadata": {},
   "outputs": [
    {
     "name": "stdout",
     "output_type": "stream",
     "text": [
      "0.554498\n"
     ]
    }
   ],
   "source": [
    "import requests\n",
    "\n",
    "proxies = {\n",
    "    'http': 'http://localhost:7890',\n",
    "    'https': 'http://localhost:7890'\n",
    "}\n",
    "\n",
    "response = requests.get('https://www.google.com', proxies=proxies)\n",
    "\n",
    "print(response.elapsed.total_seconds())\n"
   ]
  },
  {
   "cell_type": "code",
   "execution_count": 2,
   "metadata": {},
   "outputs": [
    {
     "name": "stdout",
     "output_type": "stream",
     "text": [
      "p\n",
      "Chile has adopted a commercial policy to open and diversify markets for its agricultural and food products. Chile has 31 international trade agreements that cover 65 markets.\n",
      "---\n",
      "p\n",
      "Chile’s main agricultural exports include wine, fresh fruit, dairy, salmon, pork, poultry, and forestry products. In 2021, the agriculture and related sectors represented 24.4 percent of total Chilean exports ($21.9 billion), 9 percent of total GDP ($24.2 billion), and employed around 10 percent of Chile’s labor force.\n",
      "---\n",
      "p\n",
      "U.S. agricultural exports to Chile totaled $1.3 billion in 2021, a 29.5 percent increase over 2020. Chile is the second-largest market in South America for U.S. agricultural products, after Colombia. Chile is the largest market in South America for U.S. consumer-oriented agricultural products with $886 million worth of export sales in 2021. The top U.S. agricultural exports to Chile are beer, dairy products, pork, poultry, beef, and wheat.\n",
      "---\n",
      "p\n",
      "Potential exporters should contact the FAS office in Santiago, Chile for inquiries or requests of assistance to export agricultural products to Chile. U.S. companies seeking to export food products to Chile are advised to conduct exploratory research to understand the Chilean market. \n",
      "---\n"
     ]
    },
    {
     "name": "stderr",
     "output_type": "stream",
     "text": [
      "/tmp/ipykernel_8182/2589062203.py:15: DeprecationWarning: The 'text' argument to find()-type methods is deprecated. Use 'string' instead.\n",
      "  tags_containing_keyword = soup.find_all(text=lambda text: text and keyword in text)\n"
     ]
    }
   ],
   "source": [
    "import requests\n",
    "from bs4 import BeautifulSoup\n",
    "\n",
    "url = \"https://www.trade.gov/country-commercial-guides/chile-agricultural-sector\"\n",
    "keyword = \"agricultural\"\n",
    "\n",
    "# Send a GET request to the URL and get the HTML content\n",
    "response = requests.get(url)\n",
    "html_content = response.content\n",
    "\n",
    "# Parse the HTML content using BeautifulSoup\n",
    "soup = BeautifulSoup(html_content, 'html.parser')\n",
    "\n",
    "# Find all the tags containing the keyword\n",
    "tags_containing_keyword = soup.find_all(text=lambda text: text and keyword in text)\n",
    "\n",
    "# Print the tag and content of each matching tag\n",
    "for tag in tags_containing_keyword:\n",
    "    print(tag.parent.name)\n",
    "    print(tag)\n",
    "    print('---')\n"
   ]
  }
 ],
 "metadata": {
  "kernelspec": {
   "display_name": "Python 3",
   "language": "python",
   "name": "python3"
  },
  "language_info": {
   "codemirror_mode": {
    "name": "ipython",
    "version": 3
   },
   "file_extension": ".py",
   "mimetype": "text/x-python",
   "name": "python",
   "nbconvert_exporter": "python",
   "pygments_lexer": "ipython3",
   "version": "3.10.6"
  },
  "orig_nbformat": 4
 },
 "nbformat": 4,
 "nbformat_minor": 2
}
